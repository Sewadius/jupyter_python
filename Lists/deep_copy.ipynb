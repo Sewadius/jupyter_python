{
 "cells": [
  {
   "cell_type": "markdown",
   "id": "311d923d-5e78-445f-b377-49385e359ea0",
   "metadata": {},
   "source": [
    "### Differences between `copy()` and `deepcopy()`"
   ]
  },
  {
   "cell_type": "code",
   "execution_count": 32,
   "id": "c4cabdfe-fe51-4cf0-ac1d-347ad8d21504",
   "metadata": {},
   "outputs": [],
   "source": [
    "def print_lists(l1: list, l2: list) -> None:\n",
    "    \"\"\"Function for printing lists\"\"\"\n",
    "    print(f'{l1=}\\n{l2=}')"
   ]
  },
  {
   "cell_type": "code",
   "execution_count": 33,
   "id": "b4873206-5d2c-45a1-ad22-d97894a09688",
   "metadata": {},
   "outputs": [],
   "source": [
    "list_1 = [1, 2, 3, 4]\n",
    "list_2 = list_1"
   ]
  },
  {
   "cell_type": "code",
   "execution_count": 34,
   "id": "25ba049b-35ea-464c-ad01-3e3faa77e600",
   "metadata": {},
   "outputs": [
    {
     "name": "stdout",
     "output_type": "stream",
     "text": [
      "l1=[1, 2, 3, 4]\n",
      "l2=[1, 2, 3, 4]\n"
     ]
    }
   ],
   "source": [
    "print_lists(list_1, list_2)"
   ]
  },
  {
   "cell_type": "markdown",
   "id": "7cbf1292-58a5-4475-8b58-9de57e5c510c",
   "metadata": {},
   "source": [
    "*Changing an item in the `list_1`*"
   ]
  },
  {
   "cell_type": "code",
   "execution_count": 35,
   "id": "14f73506-edd6-426b-b297-460ad462ea99",
   "metadata": {},
   "outputs": [
    {
     "name": "stdout",
     "output_type": "stream",
     "text": [
      "l1=[1, 100, 3, 4]\n",
      "l2=[1, 100, 3, 4]\n"
     ]
    }
   ],
   "source": [
    "list_1[1] = 100\n",
    "print_lists(list_1, list_2)"
   ]
  },
  {
   "cell_type": "markdown",
   "id": "466a436d-8829-46a7-8f74-941a634bfb31",
   "metadata": {},
   "source": [
    "<hr>"
   ]
  },
  {
   "cell_type": "markdown",
   "id": "b340ed7b-2855-4a7c-bec0-3bcc1ca523a7",
   "metadata": {},
   "source": [
    "#### Using `copy()`"
   ]
  },
  {
   "cell_type": "code",
   "execution_count": 36,
   "id": "0811863b-1c91-4ceb-a256-bb5d6fc173dc",
   "metadata": {},
   "outputs": [],
   "source": [
    "# Shallow copy\n",
    "list_1 = [1, 2, 3, 4]\n",
    "list_2 = list_1.copy()"
   ]
  },
  {
   "cell_type": "markdown",
   "id": "b3121b09-08a4-4870-8fdb-af156cc83db7",
   "metadata": {},
   "source": [
    "*Changing an item in the `list_2`*"
   ]
  },
  {
   "cell_type": "code",
   "execution_count": 37,
   "id": "f220d472-2111-46fd-8fbf-b032af0610e5",
   "metadata": {},
   "outputs": [
    {
     "name": "stdout",
     "output_type": "stream",
     "text": [
      "l1=[1, 2, 3, 4]\n",
      "l2=[1, -25, 3, 4]\n"
     ]
    }
   ],
   "source": [
    "list_2[1] = -25\n",
    "print_lists(list_1, list_2)"
   ]
  },
  {
   "cell_type": "markdown",
   "id": "5cd6a958-e98a-403c-9245-8eb649fe7e3e",
   "metadata": {},
   "source": [
    "#### Shallow copy for nested lists"
   ]
  },
  {
   "cell_type": "code",
   "execution_count": 38,
   "id": "ca3b7ad9-4acb-412a-8044-769c8eeb746b",
   "metadata": {},
   "outputs": [
    {
     "name": "stdout",
     "output_type": "stream",
     "text": [
      "l1=[[1, 2, 3], [4, 5, 6]]\n",
      "l2=[[1, 2, 3], [4, 5, 6]]\n"
     ]
    }
   ],
   "source": [
    "list_1 = [[1, 2, 3], [4, 5, 6]]\n",
    "list_2 = list_1.copy()\n",
    "print_lists(list_1, list_2)"
   ]
  },
  {
   "cell_type": "code",
   "execution_count": 39,
   "id": "e376cb79-53ea-4e79-af6e-2a5c4ea55d9a",
   "metadata": {},
   "outputs": [
    {
     "data": {
      "text/plain": [
       "'List_1[1][0] element: 4'"
      ]
     },
     "execution_count": 39,
     "metadata": {},
     "output_type": "execute_result"
    }
   ],
   "source": [
    "f'List_1[1][0] element: {list_1[1][0]}'"
   ]
  },
  {
   "cell_type": "markdown",
   "id": "a455b045-ddb6-4970-b057-1d3ddc24ce32",
   "metadata": {},
   "source": [
    "*Changing an element in `list_1`*"
   ]
  },
  {
   "cell_type": "code",
   "execution_count": 40,
   "id": "fdff4b2f-348b-4006-b91c-b357da07c8f4",
   "metadata": {},
   "outputs": [
    {
     "name": "stdout",
     "output_type": "stream",
     "text": [
      "l1=[[1, 2, 3], [100, 5, 6]]\n",
      "l2=[[1, 2, 3], [100, 5, 6]]\n"
     ]
    }
   ],
   "source": [
    "# Changes in list_1 and list_2\n",
    "list_1[1][0] = 100\n",
    "print_lists(list_1, list_2) "
   ]
  },
  {
   "cell_type": "markdown",
   "id": "26a54325-944d-4534-9913-88f21edcb907",
   "metadata": {},
   "source": [
    "___"
   ]
  },
  {
   "cell_type": "markdown",
   "id": "2321a883-8456-4374-a773-70746acb4d83",
   "metadata": {},
   "source": [
    "#### Appending to `list_1` in shallow copy"
   ]
  },
  {
   "cell_type": "code",
   "execution_count": 41,
   "id": "ad68ff59-54af-4db7-a11f-cdcb4dedc204",
   "metadata": {},
   "outputs": [
    {
     "name": "stdout",
     "output_type": "stream",
     "text": [
      "l1=[[1, 2, 3], [100, 5, 6], [8, 9, 10]]\n",
      "l2=[[1, 2, 3], [100, 5, 6]]\n"
     ]
    }
   ],
   "source": [
    "# Changes only for list_1\n",
    "list_1.append([8, 9, 10])\n",
    "print_lists(list_1, list_2)"
   ]
  },
  {
   "cell_type": "markdown",
   "id": "acc7fbd3-6aed-437f-a97b-dd0c4d5d7a30",
   "metadata": {},
   "source": [
    "<hr>"
   ]
  },
  {
   "cell_type": "markdown",
   "id": "15576336-36fe-43fb-9cb8-7afac22d992e",
   "metadata": {},
   "source": [
    "#### Using `deepcopy()`"
   ]
  },
  {
   "cell_type": "code",
   "execution_count": 45,
   "id": "d5fec34b-9f80-472d-981a-6eec5dd7846e",
   "metadata": {},
   "outputs": [],
   "source": [
    "#Deepcopy using\n",
    "import copy\n",
    "list_1 = [1, 2, 3, 4]\n",
    "list_2 = copy.deepcopy(list_1)\n",
    "list_1[0] = 150"
   ]
  },
  {
   "cell_type": "markdown",
   "id": "bb3ed437-6ff9-4174-8887-7b23c603fa22",
   "metadata": {},
   "source": [
    "*Working the same with as shallow copy*"
   ]
  },
  {
   "cell_type": "code",
   "execution_count": 46,
   "id": "625a627d-db6d-4286-b1af-e8cafc2f78ac",
   "metadata": {},
   "outputs": [
    {
     "name": "stdout",
     "output_type": "stream",
     "text": [
      "l1=[150, 2, 3, 4]\n",
      "l2=[1, 2, 3, 4]\n"
     ]
    }
   ],
   "source": [
    "print_lists(list_1, list_2)"
   ]
  },
  {
   "cell_type": "markdown",
   "id": "b77adb93-7a3b-4952-8746-0a85eb368427",
   "metadata": {},
   "source": [
    "*For nested lists*"
   ]
  },
  {
   "cell_type": "code",
   "execution_count": 48,
   "id": "2bc60944-088c-474b-9471-82528dec2e22",
   "metadata": {},
   "outputs": [
    {
     "name": "stdout",
     "output_type": "stream",
     "text": [
      "l1=[[1, 40, 3], [3, 4, 5]]\n",
      "l2=[[1, 2, 3], [3, 4, 5]]\n"
     ]
    }
   ],
   "source": [
    "# Lists are different\n",
    "list_1 = [[1, 2, 3], [3, 4, 5]]\n",
    "list_2 = copy.deepcopy(list_1)\n",
    "list_1[0][1] = 40\n",
    "print_lists(list_1, list_2)"
   ]
  },
  {
   "cell_type": "code",
   "execution_count": null,
   "id": "be7e06cb-584b-45e3-8495-d68b6e7028e1",
   "metadata": {},
   "outputs": [],
   "source": []
  }
 ],
 "metadata": {
  "kernelspec": {
   "display_name": "Python 3 (ipykernel)",
   "language": "python",
   "name": "python3"
  },
  "language_info": {
   "codemirror_mode": {
    "name": "ipython",
    "version": 3
   },
   "file_extension": ".py",
   "mimetype": "text/x-python",
   "name": "python",
   "nbconvert_exporter": "python",
   "pygments_lexer": "ipython3",
   "version": "3.11.5"
  }
 },
 "nbformat": 4,
 "nbformat_minor": 5
}
