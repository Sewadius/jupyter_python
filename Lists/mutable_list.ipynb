{
 "cells": [
  {
   "cell_type": "markdown",
   "id": "900c1a2a-7431-4d6b-a0ab-ef2676b61677",
   "metadata": {},
   "source": [
    "## Example shows mutability for the list"
   ]
  },
  {
   "cell_type": "code",
   "execution_count": 1,
   "id": "d65e4d46-63c2-45fd-ada8-1eadc55d26cd",
   "metadata": {},
   "outputs": [],
   "source": [
    "def get_largert_numbers(numbers: list, n: int) -> list:\n",
    "    numbers.sort()\n",
    "    return numbers[-n:]"
   ]
  },
  {
   "cell_type": "code",
   "execution_count": 2,
   "id": "69fb93bb-49e8-4522-ab4d-f3f6aa92d06d",
   "metadata": {},
   "outputs": [],
   "source": [
    "nums = [2, 3, 4, 1, 34, 123, 242, 1]"
   ]
  },
  {
   "cell_type": "markdown",
   "id": "772ae6a2-6131-4504-951a-c0a098ba9f83",
   "metadata": {},
   "source": [
    "<h3 style=\"color:green\">The list before calling the function</h3>"
   ]
  },
  {
   "cell_type": "code",
   "execution_count": 3,
   "id": "807d21d3-6d5d-403e-985e-6cdad7f1fbab",
   "metadata": {},
   "outputs": [
    {
     "data": {
      "text/plain": [
       "[2, 3, 4, 1, 34, 123, 242, 1]"
      ]
     },
     "execution_count": 3,
     "metadata": {},
     "output_type": "execute_result"
    }
   ],
   "source": [
    "nums"
   ]
  },
  {
   "cell_type": "code",
   "execution_count": 4,
   "id": "2dadcf03-cd0f-4ad0-9544-0a4e2436ece3",
   "metadata": {},
   "outputs": [
    {
     "data": {
      "text/plain": [
       "[34, 123, 242]"
      ]
     },
     "execution_count": 4,
     "metadata": {},
     "output_type": "execute_result"
    }
   ],
   "source": [
    "get_largert_numbers(nums, 3)"
   ]
  },
  {
   "cell_type": "markdown",
   "id": "98ddcf4a-ddb9-4eb3-a09a-e09c6eda67c0",
   "metadata": {},
   "source": [
    "<h3 style=\"color:orange\">The list has been changed</h3>"
   ]
  },
  {
   "cell_type": "code",
   "execution_count": 5,
   "id": "6b5b78e8-6eb8-4b7e-b644-aa2cf6126683",
   "metadata": {},
   "outputs": [
    {
     "data": {
      "text/plain": [
       "[1, 1, 2, 3, 4, 34, 123, 242]"
      ]
     },
     "execution_count": 5,
     "metadata": {},
     "output_type": "execute_result"
    }
   ],
   "source": [
    "nums"
   ]
  },
  {
   "cell_type": "code",
   "execution_count": 10,
   "id": "490c2acd-ec66-4120-b160-1b9424b55dfa",
   "metadata": {},
   "outputs": [
    {
     "name": "stdout",
     "output_type": "stream",
     "text": [
      "1. [242]\n",
      "2. [123, 242]\n",
      "3. [34, 123, 242]\n",
      "4. [4, 34, 123, 242]\n",
      "5. [3, 4, 34, 123, 242]\n",
      "6. [2, 3, 4, 34, 123, 242]\n",
      "7. [1, 2, 3, 4, 34, 123, 242]\n"
     ]
    }
   ],
   "source": [
    "for i in range (1, len(nums)):\n",
    "    print(f'{i}. {get_largert_numbers(nums, i)}')"
   ]
  }
 ],
 "metadata": {
  "kernelspec": {
   "display_name": "Python 3 (ipykernel)",
   "language": "python",
   "name": "python3"
  },
  "language_info": {
   "codemirror_mode": {
    "name": "ipython",
    "version": 3
   },
   "file_extension": ".py",
   "mimetype": "text/x-python",
   "name": "python",
   "nbconvert_exporter": "python",
   "pygments_lexer": "ipython3",
   "version": "3.11.5"
  }
 },
 "nbformat": 4,
 "nbformat_minor": 5
}
