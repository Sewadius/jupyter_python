{
 "cells": [
  {
   "cell_type": "markdown",
   "id": "0a006c34-d395-4d3c-997a-610154430cd4",
   "metadata": {},
   "source": [
    "### Some examples for `fractions` module"
   ]
  },
  {
   "cell_type": "code",
   "execution_count": 1,
   "id": "9716324e-5c17-4121-98f3-fc3d71e2c21c",
   "metadata": {},
   "outputs": [
    {
     "name": "stdout",
     "output_type": "stream",
     "text": [
      "3/4 11/20 1/9\n"
     ]
    }
   ],
   "source": [
    "from fractions import Fraction\n",
    "\n",
    "num1 = Fraction(3, 4)\n",
    "num2 = Fraction('0.55')\n",
    "num3 = Fraction('1/9')\n",
    "\n",
    "print(num1, num2, num3)"
   ]
  },
  {
   "cell_type": "markdown",
   "id": "1f49de61-d26b-4c47-a6b7-fbb182e0b878",
   "metadata": {},
   "source": [
    "### For integers"
   ]
  },
  {
   "cell_type": "code",
   "execution_count": 2,
   "id": "3327596c-7de0-4f03-bc0b-f9c2c5f0711f",
   "metadata": {},
   "outputs": [
    {
     "name": "stdout",
     "output_type": "stream",
     "text": [
      "1 1\n"
     ]
    }
   ],
   "source": [
    "num1 = Fraction(5, 5)\n",
    "num2 = Fraction(23, 23)\n",
    "\n",
    "print(num1, num2)"
   ]
  }
 ],
 "metadata": {
  "kernelspec": {
   "display_name": "Python 3 (ipykernel)",
   "language": "python",
   "name": "python3"
  },
  "language_info": {
   "codemirror_mode": {
    "name": "ipython",
    "version": 3
   },
   "file_extension": ".py",
   "mimetype": "text/x-python",
   "name": "python",
   "nbconvert_exporter": "python",
   "pygments_lexer": "ipython3",
   "version": "3.11.5"
  }
 },
 "nbformat": 4,
 "nbformat_minor": 5
}
