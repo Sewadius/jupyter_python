{
 "cells": [
  {
   "cell_type": "markdown",
   "id": "7b200d1f-acfd-48c1-91d3-34ab8e2c45f6",
   "metadata": {},
   "source": [
    "#### Some examples for `join` method"
   ]
  },
  {
   "cell_type": "code",
   "execution_count": 2,
   "id": "9252582f-fec0-45a1-ba7b-3c50e36e9ecb",
   "metadata": {},
   "outputs": [
    {
     "name": "stdout",
     "output_type": "stream",
     "text": [
      "John#Peter#Vicky\n"
     ]
    }
   ],
   "source": [
    "myTuple = ('John', 'Peter', 'Vicky')\n",
    "x = '#'.join(myTuple)\n",
    "print(x)"
   ]
  },
  {
   "cell_type": "markdown",
   "id": "e9d179ca-e204-4ca4-86bf-6a69b3bf54f7",
   "metadata": {},
   "source": [
    "##### For a dictionary"
   ]
  },
  {
   "cell_type": "code",
   "execution_count": 3,
   "id": "48c56620-f099-452a-8cac-1bc0466acc21",
   "metadata": {},
   "outputs": [
    {
     "name": "stdout",
     "output_type": "stream",
     "text": [
      "nameTESTcountry\n"
     ]
    }
   ],
   "source": [
    "myDict = {'name': 'John', 'country': 'Norway'}\n",
    "mySeparator = 'TEST'\n",
    "print(mySeparator.join(myDict))"
   ]
  }
 ],
 "metadata": {
  "kernelspec": {
   "display_name": "Python 3 (ipykernel)",
   "language": "python",
   "name": "python3"
  },
  "language_info": {
   "codemirror_mode": {
    "name": "ipython",
    "version": 3
   },
   "file_extension": ".py",
   "mimetype": "text/x-python",
   "name": "python",
   "nbconvert_exporter": "python",
   "pygments_lexer": "ipython3",
   "version": "3.11.6"
  }
 },
 "nbformat": 4,
 "nbformat_minor": 5
}
