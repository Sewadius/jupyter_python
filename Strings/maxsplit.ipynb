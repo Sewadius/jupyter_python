{
 "cells": [
  {
   "cell_type": "markdown",
   "id": "eb6314e0-95ce-44a5-8e3c-3108d5e60263",
   "metadata": {},
   "source": [
    "### `maxsplit` parameter for `split()` method"
   ]
  },
  {
   "cell_type": "code",
   "execution_count": 3,
   "id": "a448b1c9-d989-4857-85e3-5962e28def1a",
   "metadata": {},
   "outputs": [
    {
     "data": {
      "text/plain": [
       "'Hello, my dear old friend'"
      ]
     },
     "execution_count": 3,
     "metadata": {},
     "output_type": "execute_result"
    }
   ],
   "source": [
    "# Initial string\n",
    "my_string = \"Hello, my dear old friend\"\n",
    "my_string"
   ]
  },
  {
   "cell_type": "markdown",
   "id": "758cd6a1-6c3b-4eb3-b275-1b04f1540165",
   "metadata": {},
   "source": [
    "#### Changing a parameter in a loop and outputting the result"
   ]
  },
  {
   "cell_type": "code",
   "execution_count": 14,
   "id": "74d8c9f2-4a51-416a-a65e-75fc23db65c2",
   "metadata": {},
   "outputs": [
    {
     "name": "stdout",
     "output_type": "stream",
     "text": [
      "['Hello, my dear old friend'] - list length: 1\n",
      "\n",
      "0. Hello, my dear old friend\n",
      "\n",
      "['Hello,', 'my dear old friend'] - list length: 2\n",
      "\n",
      "0. Hello,\n",
      "\n",
      "1. my dear old friend\n",
      "\n",
      "['Hello,', 'my', 'dear old friend'] - list length: 3\n",
      "\n",
      "0. Hello,\n",
      "\n",
      "1. my\n",
      "\n",
      "2. dear old friend\n",
      "\n",
      "['Hello,', 'my', 'dear', 'old friend'] - list length: 4\n",
      "\n",
      "0. Hello,\n",
      "\n",
      "1. my\n",
      "\n",
      "2. dear\n",
      "\n",
      "3. old friend\n",
      "\n",
      "['Hello,', 'my', 'dear', 'old', 'friend'] - list length: 5\n",
      "\n",
      "0. Hello,\n",
      "\n",
      "1. my\n",
      "\n",
      "2. dear\n",
      "\n",
      "3. old\n",
      "\n",
      "4. friend\n",
      "\n"
     ]
    }
   ],
   "source": [
    "for i in range (5):\n",
    "    result = my_string.split(maxsplit=i)\n",
    "    print(f'{result} - list length: {len(result)}\\n')\n",
    "    for j, el in enumerate(result):\n",
    "        print(f'{j}. {el}\\n')"
   ]
  }
 ],
 "metadata": {
  "kernelspec": {
   "display_name": "Python 3 (ipykernel)",
   "language": "python",
   "name": "python3"
  },
  "language_info": {
   "codemirror_mode": {
    "name": "ipython",
    "version": 3
   },
   "file_extension": ".py",
   "mimetype": "text/x-python",
   "name": "python",
   "nbconvert_exporter": "python",
   "pygments_lexer": "ipython3",
   "version": "3.11.5"
  }
 },
 "nbformat": 4,
 "nbformat_minor": 5
}
