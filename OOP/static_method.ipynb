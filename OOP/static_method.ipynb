{
 "cells": [
  {
   "cell_type": "markdown",
   "id": "43d2db3f-ad76-4772-ba6a-c42cd92d0b01",
   "metadata": {},
   "source": [
    "#### Using for static method"
   ]
  },
  {
   "cell_type": "code",
   "execution_count": 1,
   "id": "722a7fcf-49b8-491c-be37-5f1638b601ad",
   "metadata": {},
   "outputs": [],
   "source": [
    "class Calculator:\n",
    "    def addNumbers(x: int, y: int) -> int:\n",
    "        return x + y"
   ]
  },
  {
   "cell_type": "markdown",
   "id": "e47a31f0-6624-4b23-bcb8-74e99d193506",
   "metadata": {},
   "source": [
    "#### First way"
   ]
  },
  {
   "cell_type": "code",
   "execution_count": 2,
   "id": "ef585949-7aaf-4dad-a2b6-37bb49d9ef54",
   "metadata": {},
   "outputs": [],
   "source": [
    "Calculator.addNumbers = staticmethod(Calculator.addNumbers)"
   ]
  },
  {
   "cell_type": "code",
   "execution_count": 3,
   "id": "b1e27a0e-d201-43dc-997c-e5a94a1a213c",
   "metadata": {},
   "outputs": [
    {
     "data": {
      "text/plain": [
       "5"
      ]
     },
     "execution_count": 3,
     "metadata": {},
     "output_type": "execute_result"
    }
   ],
   "source": [
    "Calculator.addNumbers(2, 3)"
   ]
  },
  {
   "cell_type": "markdown",
   "id": "30c8ff21-4d9f-489d-9f06-505cb560f173",
   "metadata": {},
   "source": [
    "#### Second way"
   ]
  },
  {
   "cell_type": "code",
   "execution_count": 4,
   "id": "ae12f1e6-5be9-4070-bd71-f10a26c2d22a",
   "metadata": {},
   "outputs": [],
   "source": [
    "class Calc:\n",
    "    @staticmethod\n",
    "    def addNumbers(x: int, y: int) -> int:\n",
    "        return x + y"
   ]
  },
  {
   "cell_type": "code",
   "execution_count": 5,
   "id": "aea5695a-f674-4fb9-8338-48fdcebb43ff",
   "metadata": {},
   "outputs": [
    {
     "data": {
      "text/plain": [
       "15"
      ]
     },
     "execution_count": 5,
     "metadata": {},
     "output_type": "execute_result"
    }
   ],
   "source": [
    "Calc.addNumbers(10, 5)"
   ]
  }
 ],
 "metadata": {
  "kernelspec": {
   "display_name": "Python 3 (ipykernel)",
   "language": "python",
   "name": "python3"
  },
  "language_info": {
   "codemirror_mode": {
    "name": "ipython",
    "version": 3
   },
   "file_extension": ".py",
   "mimetype": "text/x-python",
   "name": "python",
   "nbconvert_exporter": "python",
   "pygments_lexer": "ipython3",
   "version": "3.11.5"
  }
 },
 "nbformat": 4,
 "nbformat_minor": 5
}
