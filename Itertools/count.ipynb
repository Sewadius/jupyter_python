{
 "cells": [
  {
   "cell_type": "markdown",
   "id": "5bb4ff89-624f-4633-9861-3f91844e1507",
   "metadata": {},
   "source": [
    "#### Examples for `count` from `itertools`"
   ]
  },
  {
   "cell_type": "code",
   "execution_count": 1,
   "id": "197b06fe-6269-4750-acd1-76cdf8b18a34",
   "metadata": {},
   "outputs": [],
   "source": [
    "from itertools import count"
   ]
  },
  {
   "cell_type": "code",
   "execution_count": 2,
   "id": "fe463fd2-5cbc-4efb-b069-623536ed8614",
   "metadata": {},
   "outputs": [
    {
     "name": "stdout",
     "output_type": "stream",
     "text": [
      "1 3 5 7 9 11 13 15 "
     ]
    }
   ],
   "source": [
    "for number in count(start=1, step=2):\n",
    "    if number > 15:\n",
    "        break\n",
    "    print(number, end=' ')"
   ]
  },
  {
   "cell_type": "markdown",
   "id": "dad7cc51-bcde-4279-81b9-8a1b5f48e32e",
   "metadata": {},
   "source": [
    "#### Infinite iterators"
   ]
  },
  {
   "cell_type": "code",
   "execution_count": 3,
   "id": "afb9449a-6f34-4b81-b82c-f2e8ab2bd5eb",
   "metadata": {},
   "outputs": [
    {
     "name": "stdout",
     "output_type": "stream",
     "text": [
      "5 10 15 20 25 30 35 "
     ]
    }
   ],
   "source": [
    "for i in count(5, 5):\n",
    "    if i == 40:\n",
    "        break\n",
    "    print(i, end=' ')"
   ]
  }
 ],
 "metadata": {
  "kernelspec": {
   "display_name": "Python 3 (ipykernel)",
   "language": "python",
   "name": "python3"
  },
  "language_info": {
   "codemirror_mode": {
    "name": "ipython",
    "version": 3
   },
   "file_extension": ".py",
   "mimetype": "text/x-python",
   "name": "python",
   "nbconvert_exporter": "python",
   "pygments_lexer": "ipython3",
   "version": "3.11.6"
  }
 },
 "nbformat": 4,
 "nbformat_minor": 5
}
