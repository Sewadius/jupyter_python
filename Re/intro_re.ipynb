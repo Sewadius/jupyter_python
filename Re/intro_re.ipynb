{
 "cells": [
  {
   "cell_type": "markdown",
   "id": "cbce6433-d511-4b88-bd40-0e3eccfd3e88",
   "metadata": {},
   "source": [
    "### Some examples for `re` module"
   ]
  },
  {
   "cell_type": "code",
   "execution_count": 1,
   "id": "778451b7-7edf-4272-8c0f-ba533a1d9efb",
   "metadata": {},
   "outputs": [],
   "source": [
    "import re"
   ]
  },
  {
   "cell_type": "markdown",
   "id": "3379081b-4d86-4259-89e8-d9259edee3da",
   "metadata": {},
   "source": [
    "##### All occurrences"
   ]
  },
  {
   "cell_type": "code",
   "execution_count": 2,
   "id": "50d565ab-caab-4ccc-86bf-9d49e19b6246",
   "metadata": {},
   "outputs": [
    {
     "data": {
      "text/plain": [
       "(['map', 'map'], 2)"
      ]
     },
     "execution_count": 2,
     "metadata": {},
     "output_type": "execute_result"
    }
   ],
   "source": [
    "text = \"Map map bitmap object are different things\"\n",
    "match = re.findall(\"map\", text)\n",
    "match, len(match)"
   ]
  },
  {
   "cell_type": "markdown",
   "id": "5ea66d6c-1adf-4f32-905c-c5c7dca2d7ed",
   "metadata": {},
   "source": [
    "##### Only separate words"
   ]
  },
  {
   "cell_type": "code",
   "execution_count": 3,
   "id": "da5134f8-17c4-4c94-a91d-a94184c7e921",
   "metadata": {},
   "outputs": [
    {
     "data": {
      "text/plain": [
       "(['map'], 1)"
      ]
     },
     "execution_count": 3,
     "metadata": {},
     "output_type": "execute_result"
    }
   ],
   "source": [
    "match = re.findall(r\"\\bmap\\b\", text)\n",
    "match, len(match)"
   ]
  },
  {
   "cell_type": "markdown",
   "id": "e47178f1-fdcd-4ddf-b96e-97a9e65988fc",
   "metadata": {},
   "source": [
    "##### Templates for multiple characters with `[]`"
   ]
  },
  {
   "cell_type": "code",
   "execution_count": 4,
   "id": "b4831b06-e446-4260-85eb-098526d498c2",
   "metadata": {},
   "outputs": [
    {
     "data": {
      "text/plain": [
       "['Еда', 'еду', 'еда']"
      ]
     },
     "execution_count": 4,
     "metadata": {},
     "output_type": "execute_result"
    }
   ],
   "source": [
    "text = \"Еда, беду, победа\"\n",
    "match = re.findall(r\"[еЕ]д[ау]\", text)\n",
    "match"
   ]
  },
  {
   "cell_type": "markdown",
   "id": "e0966a43-9d38-4d5f-b239-886dd84f3f5b",
   "metadata": {},
   "source": [
    "##### Symbolic class for digits"
   ]
  },
  {
   "cell_type": "code",
   "execution_count": 5,
   "id": "964fd77d-2546-4e7c-bc69-74a1197e6798",
   "metadata": {},
   "outputs": [
    {
     "data": {
      "text/plain": [
       "['54', '21', '32']"
      ]
     },
     "execution_count": 5,
     "metadata": {},
     "output_type": "execute_result"
    }
   ],
   "source": [
    "numbers = \"5 54 3 21 -1 32\"\n",
    "match = re.findall(r\"[0-9][0-9]\", numbers)\n",
    "match"
   ]
  },
  {
   "cell_type": "markdown",
   "id": "b45c32a1-3b21-4590-b31b-c67694e4f72e",
   "metadata": {},
   "source": [
    "##### For negative numbers"
   ]
  },
  {
   "cell_type": "code",
   "execution_count": 6,
   "id": "5e3cd2e0-6f65-4016-b7d3-99204b1c57ec",
   "metadata": {},
   "outputs": [
    {
     "data": {
      "text/plain": [
       "['54', '21', '-1', '32']"
      ]
     },
     "execution_count": 6,
     "metadata": {},
     "output_type": "execute_result"
    }
   ],
   "source": [
    "match = re.findall(r\"[-0-9][0-9]\", numbers)\n",
    "match"
   ]
  },
  {
   "cell_type": "markdown",
   "id": "f24f2f61-bf45-41f9-9d87-835b54c31284",
   "metadata": {},
   "source": [
    "##### Not the numbers"
   ]
  },
  {
   "cell_type": "code",
   "execution_count": 7,
   "id": "116be30c-91a8-46de-9e52-a6c36f087fb4",
   "metadata": {},
   "outputs": [
    {
     "data": {
      "text/plain": [
       "[' ', ' ', '-']"
      ]
     },
     "execution_count": 7,
     "metadata": {},
     "output_type": "execute_result"
    }
   ],
   "source": [
    "text = \"54 322 -0\"\n",
    "match = re.findall(r'[^0-9]', text)\n",
    "match"
   ]
  },
  {
   "cell_type": "markdown",
   "id": "a01f17f8-d0eb-4df4-8327-1ccd18e616a1",
   "metadata": {},
   "source": [
    "##### Just the letters"
   ]
  },
  {
   "cell_type": "code",
   "execution_count": 8,
   "id": "2b30e0e2-0bee-4af9-89c0-ad89e42685d3",
   "metadata": {},
   "outputs": [
    {
     "data": {
      "text/plain": [
       "['Е', 'д', 'а', 'б', 'е', 'д', 'у']"
      ]
     },
     "execution_count": 8,
     "metadata": {},
     "output_type": "execute_result"
    }
   ],
   "source": [
    "text = \"Еда, беду 5566\"\n",
    "match = re.findall(r\"[а-яА-я]\", text)\n",
    "match"
   ]
  },
  {
   "cell_type": "markdown",
   "id": "ef4bc7a5-c7a4-43b9-8249-58cd358a4d76",
   "metadata": {},
   "source": [
    "##### Use of special characters, only digits"
   ]
  },
  {
   "cell_type": "code",
   "execution_count": 9,
   "id": "dc099c3f-61a0-48a2-9445-8744ab4b41a0",
   "metadata": {},
   "outputs": [
    {
     "data": {
      "text/plain": [
       "['5', '5', '6', '6']"
      ]
     },
     "execution_count": 9,
     "metadata": {},
     "output_type": "execute_result"
    }
   ],
   "source": [
    "match = re.findall(r\"\\d\", text)\n",
    "match"
   ]
  },
  {
   "cell_type": "markdown",
   "id": "4ad74d8b-2a03-4473-9b51-2661213b7e5a",
   "metadata": {},
   "source": [
    "##### Use of flags"
   ]
  },
  {
   "cell_type": "code",
   "execution_count": 11,
   "id": "67608c0c-9b92-4c64-8dc2-2b4ff68523d7",
   "metadata": {},
   "outputs": [
    {
     "data": {
      "text/plain": [
       "['5', '5', '6', '6']"
      ]
     },
     "execution_count": 11,
     "metadata": {},
     "output_type": "execute_result"
    }
   ],
   "source": [
    "match = re.findall(r'\\w', text, re.ASCII)\n",
    "match"
   ]
  },
  {
   "cell_type": "markdown",
   "id": "d78b6528-5c70-4a91-af56-55d24d23e7c4",
   "metadata": {},
   "source": [
    "##### Highlighting hexadecimal digits"
   ]
  },
  {
   "cell_type": "code",
   "execution_count": 12,
   "id": "8dbb51b6-8d16-4481-abdd-26d7144685b8",
   "metadata": {},
   "outputs": [
    {
     "data": {
      "text/plain": [
       "['0xa', '0xf', '0x5']"
      ]
     },
     "execution_count": 12,
     "metadata": {},
     "output_type": "execute_result"
    }
   ],
   "source": [
    "text = '0xa, 0xf, 0x5'\n",
    "match = re.findall(r'0x[\\da-fA-F]', text)\n",
    "match"
   ]
  }
 ],
 "metadata": {
  "kernelspec": {
   "display_name": "Python 3 (ipykernel)",
   "language": "python",
   "name": "python3"
  },
  "language_info": {
   "codemirror_mode": {
    "name": "ipython",
    "version": 3
   },
   "file_extension": ".py",
   "mimetype": "text/x-python",
   "name": "python",
   "nbconvert_exporter": "python",
   "pygments_lexer": "ipython3",
   "version": "3.11.5"
  }
 },
 "nbformat": 4,
 "nbformat_minor": 5
}
