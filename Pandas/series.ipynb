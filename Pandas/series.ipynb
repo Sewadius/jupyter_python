{
 "cells": [
  {
   "cell_type": "markdown",
   "id": "dfe457c5-ec47-4a1a-b662-89fdc62a6e9c",
   "metadata": {},
   "source": [
    "#### Some examples with `Series()` method"
   ]
  },
  {
   "cell_type": "code",
   "execution_count": 13,
   "id": "380bbab0-6b25-4646-bcef-086dc0a0ca76",
   "metadata": {},
   "outputs": [],
   "source": [
    "import pandas as pd"
   ]
  },
  {
   "cell_type": "code",
   "execution_count": 12,
   "id": "d48ea7c6-bedb-4682-aa38-bca88274d696",
   "metadata": {},
   "outputs": [
    {
     "data": {
      "text/plain": [
       "<module 'pandas' from 'C:\\\\Users\\\\Игорь\\\\AppData\\\\Local\\\\Programs\\\\Python\\\\Python311\\\\Lib\\\\site-packages\\\\pandas\\\\__init__.py'>"
      ]
     },
     "execution_count": 12,
     "metadata": {},
     "output_type": "execute_result"
    }
   ],
   "source": [
    "pd"
   ]
  },
  {
   "cell_type": "code",
   "execution_count": 11,
   "id": "7c959f97-e602-4861-ab17-dbd3f0d7cbdd",
   "metadata": {},
   "outputs": [
    {
     "data": {
      "text/plain": [
       "0    1\n",
       "1    2\n",
       "2    3\n",
       "3    4\n",
       "4    5\n",
       "dtype: int64"
      ]
     },
     "execution_count": 11,
     "metadata": {},
     "output_type": "execute_result"
    }
   ],
   "source": [
    "a = [1, 2, 3, 4, 5]\n",
    "pd.Series(a)"
   ]
  },
  {
   "cell_type": "code",
   "execution_count": 15,
   "id": "4e975869-fa1d-48e2-9b8e-dec95c98b1a8",
   "metadata": {},
   "outputs": [
    {
     "data": {
      "text/plain": [
       "0         True\n",
       "1           45\n",
       "2        hello\n",
       "3    (1, 2, 3)\n",
       "dtype: object"
      ]
     },
     "execution_count": 15,
     "metadata": {},
     "output_type": "execute_result"
    }
   ],
   "source": [
    "a = [True, 45, 'hello', (1, 2, 3)]\n",
    "pd.Series(a)"
   ]
  },
  {
   "cell_type": "markdown",
   "id": "cd266e0c-4dfc-4b90-baea-4b919fe848e1",
   "metadata": {},
   "source": [
    "##### Output by key and position in the collection"
   ]
  },
  {
   "cell_type": "code",
   "execution_count": 5,
   "id": "c496cada-d006-4320-84dc-e2ba2105f186",
   "metadata": {},
   "outputs": [],
   "source": [
    "currencies = {\n",
    "    'AUD': 'Australian Dollar',\n",
    "    'EUR': 'Euro',\n",
    "    'USD': 'United States Dollar'\n",
    "}"
   ]
  },
  {
   "cell_type": "code",
   "execution_count": 10,
   "id": "cf5ac269-f0a2-4edd-b1d5-f066b2e099a4",
   "metadata": {},
   "outputs": [
    {
     "name": "stdout",
     "output_type": "stream",
     "text": [
      "Australian Dollar Australian Dollar\n"
     ]
    }
   ],
   "source": [
    "data = pd.Series(currencies)\n",
    "print(data['AUD'], data.iloc[0])"
   ]
  },
  {
   "cell_type": "code",
   "execution_count": 14,
   "id": "95499e8d-d632-48a2-aa75-6080681394a5",
   "metadata": {},
   "outputs": [
    {
     "name": "stdout",
     "output_type": "stream",
     "text": [
      "United States Dollar United States Dollar\n"
     ]
    }
   ],
   "source": [
    "print(data['USD'], data.iloc[2])"
   ]
  }
 ],
 "metadata": {
  "kernelspec": {
   "display_name": "Python 3 (ipykernel)",
   "language": "python",
   "name": "python3"
  },
  "language_info": {
   "codemirror_mode": {
    "name": "ipython",
    "version": 3
   },
   "file_extension": ".py",
   "mimetype": "text/x-python",
   "name": "python",
   "nbconvert_exporter": "python",
   "pygments_lexer": "ipython3",
   "version": "3.11.5"
  }
 },
 "nbformat": 4,
 "nbformat_minor": 5
}
