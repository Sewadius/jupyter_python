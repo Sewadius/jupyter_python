{
 "cells": [
  {
   "cell_type": "markdown",
   "id": "a5117867-e5f5-4749-ae4d-51ede25f5241",
   "metadata": {},
   "source": [
    "#### Operations with `Series` data"
   ]
  },
  {
   "cell_type": "code",
   "execution_count": 1,
   "id": "40f85168-8081-4ef8-af58-39e98dbe6f92",
   "metadata": {},
   "outputs": [
    {
     "data": {
      "text/plain": [
       "0    10\n",
       "1    20\n",
       "2    30\n",
       "3    40\n",
       "dtype: int64"
      ]
     },
     "execution_count": 1,
     "metadata": {},
     "output_type": "execute_result"
    }
   ],
   "source": [
    "import pandas as pd\n",
    "a = [10, 20, 30, 40]\n",
    "data = pd.Series(a)\n",
    "data"
   ]
  },
  {
   "cell_type": "markdown",
   "id": "22acafb6-dccf-4c77-909b-1f57bc8be248",
   "metadata": {},
   "source": [
    "*Value addition*"
   ]
  },
  {
   "cell_type": "code",
   "execution_count": 2,
   "id": "ba7ab0af-d157-485d-991d-e397ccbfa41f",
   "metadata": {},
   "outputs": [
    {
     "data": {
      "text/plain": [
       "0    25\n",
       "1    35\n",
       "2    45\n",
       "3    55\n",
       "dtype: int64"
      ]
     },
     "execution_count": 2,
     "metadata": {},
     "output_type": "execute_result"
    }
   ],
   "source": [
    "data += 15\n",
    "data"
   ]
  },
  {
   "cell_type": "markdown",
   "id": "37210947-9aab-487c-b63b-736b90b99a6b",
   "metadata": {},
   "source": [
    "*Division operation*"
   ]
  },
  {
   "cell_type": "code",
   "execution_count": 3,
   "id": "2f354961-4910-4ac7-8dfa-a24bf10742e6",
   "metadata": {},
   "outputs": [
    {
     "data": {
      "text/plain": [
       "0    12.5\n",
       "1    17.5\n",
       "2    22.5\n",
       "3    27.5\n",
       "dtype: float64"
      ]
     },
     "execution_count": 3,
     "metadata": {},
     "output_type": "execute_result"
    }
   ],
   "source": [
    "data / 2"
   ]
  },
  {
   "cell_type": "markdown",
   "id": "3122a308-0aa4-4402-971f-7f20939d0055",
   "metadata": {},
   "source": [
    "##### Comparison with the value for the data"
   ]
  },
  {
   "cell_type": "code",
   "execution_count": 4,
   "id": "9bd1d51a-6859-4435-860a-f9467051c9ff",
   "metadata": {},
   "outputs": [
    {
     "data": {
      "text/plain": [
       "0    False\n",
       "1    False\n",
       "2     True\n",
       "3     True\n",
       "dtype: bool"
      ]
     },
     "execution_count": 4,
     "metadata": {},
     "output_type": "execute_result"
    }
   ],
   "source": [
    "data > 40"
   ]
  },
  {
   "cell_type": "code",
   "execution_count": 5,
   "id": "53bafc90-8c53-45bc-a4bb-02414e9ab26a",
   "metadata": {},
   "outputs": [
    {
     "data": {
      "text/plain": [
       "0    False\n",
       "1    False\n",
       "2     True\n",
       "3    False\n",
       "dtype: bool"
      ]
     },
     "execution_count": 5,
     "metadata": {},
     "output_type": "execute_result"
    }
   ],
   "source": [
    "data == 45"
   ]
  },
  {
   "cell_type": "markdown",
   "id": "12e3551c-8020-42b3-affd-277463a5902a",
   "metadata": {},
   "source": [
    "##### `max`, `min`, `sum` and `sorted` for data"
   ]
  },
  {
   "cell_type": "code",
   "execution_count": 7,
   "id": "f6a3c7a2-5f13-41a3-9a43-41234523f24d",
   "metadata": {},
   "outputs": [
    {
     "name": "stdout",
     "output_type": "stream",
     "text": [
      "55 25 160\n"
     ]
    }
   ],
   "source": [
    "print(max(data), min(data), sum(data))"
   ]
  },
  {
   "cell_type": "code",
   "execution_count": 8,
   "id": "ad651d19-2450-4a96-80eb-33d32f6dbcff",
   "metadata": {},
   "outputs": [
    {
     "data": {
      "text/plain": [
       "[55, 45, 35, 25]"
      ]
     },
     "execution_count": 8,
     "metadata": {},
     "output_type": "execute_result"
    }
   ],
   "source": [
    "sorted(data, reverse=True)"
   ]
  },
  {
   "cell_type": "markdown",
   "id": "a738afee-0cb9-46bf-9e09-187a707dfa4a",
   "metadata": {},
   "source": [
    "##### Conversion to `list`, `tuple` and `set`"
   ]
  },
  {
   "cell_type": "code",
   "execution_count": 9,
   "id": "2549e2ab-5bf6-461d-a509-6e322699764d",
   "metadata": {},
   "outputs": [
    {
     "name": "stdout",
     "output_type": "stream",
     "text": [
      "[25, 35, 45, 55]\n",
      "(25, 35, 45, 55)\n",
      "{25, 35, 45, 55}\n"
     ]
    }
   ],
   "source": [
    "print(list(data))\n",
    "print(tuple(data))\n",
    "print(set(data))"
   ]
  },
  {
   "cell_type": "markdown",
   "id": "3b802640-7f41-40f7-be47-49b1bc67b5ad",
   "metadata": {},
   "source": [
    "##### Data from `str`"
   ]
  },
  {
   "cell_type": "code",
   "execution_count": 10,
   "id": "d0bdd172-a085-4ad7-bc0e-d70d001a56c6",
   "metadata": {},
   "outputs": [
    {
     "data": {
      "text/plain": [
       "0    hello\n",
       "1    world\n",
       "2       hi\n",
       "dtype: object"
      ]
     },
     "execution_count": 10,
     "metadata": {},
     "output_type": "execute_result"
    }
   ],
   "source": [
    "b = ['hello', 'world', 'hi']\n",
    "s = pd.Series(b)\n",
    "s"
   ]
  },
  {
   "cell_type": "code",
   "execution_count": 11,
   "id": "4ec42d2a-4102-4f68-8c81-cf72ec2cc878",
   "metadata": {},
   "outputs": [
    {
     "data": {
      "text/plain": [
       "0    hello, day\n",
       "1    world, day\n",
       "2       hi, day\n",
       "dtype: object"
      ]
     },
     "execution_count": 11,
     "metadata": {},
     "output_type": "execute_result"
    }
   ],
   "source": [
    "s += ', day'\n",
    "s"
   ]
  },
  {
   "cell_type": "code",
   "execution_count": 12,
   "id": "0cead0eb-79d1-40da-a3cb-62466b52735e",
   "metadata": {},
   "outputs": [
    {
     "data": {
      "text/plain": [
       "0    hello, dayhello, day\n",
       "1    world, dayworld, day\n",
       "2          hi, dayhi, day\n",
       "dtype: object"
      ]
     },
     "execution_count": 12,
     "metadata": {},
     "output_type": "execute_result"
    }
   ],
   "source": [
    "s * 2"
   ]
  },
  {
   "cell_type": "code",
   "execution_count": 13,
   "id": "66115a5b-e1f8-494e-ab9a-647ca3f5c471",
   "metadata": {},
   "outputs": [
    {
     "data": {
      "text/plain": [
       "0    False\n",
       "1    False\n",
       "2    False\n",
       "dtype: bool"
      ]
     },
     "execution_count": 13,
     "metadata": {},
     "output_type": "execute_result"
    }
   ],
   "source": [
    "s < 'abc'"
   ]
  },
  {
   "cell_type": "code",
   "execution_count": 14,
   "id": "b8831327-ca66-4501-924c-d4fe7e1f3565",
   "metadata": {},
   "outputs": [
    {
     "data": {
      "text/plain": [
       "'Total elements in data: 3'"
      ]
     },
     "execution_count": 14,
     "metadata": {},
     "output_type": "execute_result"
    }
   ],
   "source": [
    "f'Total elements in data: {len(s)}'"
   ]
  }
 ],
 "metadata": {
  "kernelspec": {
   "display_name": "Python 3 (ipykernel)",
   "language": "python",
   "name": "python3"
  },
  "language_info": {
   "codemirror_mode": {
    "name": "ipython",
    "version": 3
   },
   "file_extension": ".py",
   "mimetype": "text/x-python",
   "name": "python",
   "nbconvert_exporter": "python",
   "pygments_lexer": "ipython3",
   "version": "3.11.5"
  }
 },
 "nbformat": 4,
 "nbformat_minor": 5
}
