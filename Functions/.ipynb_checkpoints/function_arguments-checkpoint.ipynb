{
 "cells": [
  {
   "cell_type": "markdown",
   "id": "65289230-1097-4e70-acaa-4b6a5e1d2d21",
   "metadata": {},
   "source": [
    "### Shows the interaction with the function arguments"
   ]
  },
  {
   "cell_type": "code",
   "execution_count": 4,
   "id": "44fa59d0-9077-432c-8023-231151c9359e",
   "metadata": {},
   "outputs": [],
   "source": [
    "def complicated_function(x, y, z):\n",
    "    print(f'{x=}, {y=}, {z=}')"
   ]
  },
  {
   "cell_type": "code",
   "execution_count": 5,
   "id": "999cfbad-8f42-4d04-bf9d-408207a87a98",
   "metadata": {},
   "outputs": [
    {
     "name": "stdout",
     "output_type": "stream",
     "text": [
      "x=1, y=2, z=3\n"
     ]
    }
   ],
   "source": [
    "complicated_function(1, 2, 3)"
   ]
  },
  {
   "cell_type": "markdown",
   "id": "13c86e24-1bee-4bb2-99c1-8d37dbf7fc69",
   "metadata": {},
   "source": [
    "<h3 style=\"color:blue\">Key arguments should go after positional arguments</h3>"
   ]
  },
  {
   "cell_type": "code",
   "execution_count": 6,
   "id": "a6526d0f-8a85-4a9f-a3b7-e7767ac2ea06",
   "metadata": {},
   "outputs": [
    {
     "name": "stdout",
     "output_type": "stream",
     "text": [
      "x=3, y=0, z=-4\n"
     ]
    }
   ],
   "source": [
    "complicated_function(3, z=-4, y=0)"
   ]
  },
  {
   "cell_type": "code",
   "execution_count": 7,
   "id": "82e9a979-6fde-45fb-a599-1fe377e3eb4a",
   "metadata": {},
   "outputs": [
    {
     "name": "stdout",
     "output_type": "stream",
     "text": [
      "x=10, y=0, z=-10\n"
     ]
    }
   ],
   "source": [
    "complicated_function(z=-10, y=0, x=10)"
   ]
  },
  {
   "cell_type": "markdown",
   "id": "e9e3c81a-c2ba-42d0-b1e0-dcf3c3fcb463",
   "metadata": {},
   "source": [
    "<h3 style=\"color:orange\">*args keyword using (some positional arguments)</h3>"
   ]
  },
  {
   "cell_type": "code",
   "execution_count": 28,
   "id": "8182435e-ecc5-48be-8281-5fc18a2b81cd",
   "metadata": {},
   "outputs": [],
   "source": [
    "def some_function(x, y, *args):\n",
    "    print(x, y, args)\n",
    "    print(f'Is the tuple: {isinstance(args, tuple)}')"
   ]
  },
  {
   "cell_type": "markdown",
   "id": "6115ecf2-ccde-4dc6-94ae-f2cb1583ede7",
   "metadata": {},
   "source": [
    "#### We got a tuple for `args`"
   ]
  },
  {
   "cell_type": "code",
   "execution_count": 29,
   "id": "7bc479bf-00e3-452b-b614-3ed168d64a8d",
   "metadata": {},
   "outputs": [
    {
     "name": "stdout",
     "output_type": "stream",
     "text": [
      "1 0 (-9, 0, 12, 23)\n",
      "Is the tuple: True\n"
     ]
    }
   ],
   "source": [
    "some_function(1, 0, -9, 0, 12, 23)"
   ]
  },
  {
   "cell_type": "markdown",
   "id": "def0bd1e-3f42-4344-ad7b-549befb8c5b2",
   "metadata": {},
   "source": [
    "<h3 style=\"color:green\">**kwargs for key arguments</h3>"
   ]
  },
  {
   "cell_type": "code",
   "execution_count": 40,
   "id": "d397f31d-23e7-4605-a96f-893ab50caea2",
   "metadata": {},
   "outputs": [],
   "source": [
    "def kwargs_function(*args, **kwargs):\n",
    "    print(args, kwargs)\n",
    "    print(type(kwargs))\n",
    "    print(f'For \"s\" key: {kwargs.get(\"s\")}')"
   ]
  },
  {
   "cell_type": "markdown",
   "id": "1fe1137f-e4b5-4240-9ed4-27bdd85ba122",
   "metadata": {},
   "source": [
    "### We got `kwargs`  as a dictionary"
   ]
  },
  {
   "cell_type": "code",
   "execution_count": 41,
   "id": "55880729-5baa-40ed-b539-f0d71cf374ac",
   "metadata": {},
   "outputs": [
    {
     "name": "stdout",
     "output_type": "stream",
     "text": [
      "() {'x': 1, 's': 'hello', 'b': True}\n",
      "<class 'dict'>\n",
      "For \"s\" key: hello\n"
     ]
    }
   ],
   "source": [
    "kwargs_function(x=1, s=\"hello\", b=True)"
   ]
  },
  {
   "cell_type": "markdown",
   "id": "3c62186c-034f-4ffd-bd09-65112559866c",
   "metadata": {},
   "source": [
    "### Without key arguments"
   ]
  },
  {
   "cell_type": "code",
   "execution_count": 42,
   "id": "aeb4e61b-a987-40c4-b862-38049489d679",
   "metadata": {},
   "outputs": [
    {
     "name": "stdout",
     "output_type": "stream",
     "text": [
      "(1, 2, 3, 4) {}\n",
      "<class 'dict'>\n",
      "For \"s\" key: None\n"
     ]
    }
   ],
   "source": [
    "kwargs_function(1, 2, 3, 4)"
   ]
  },
  {
   "cell_type": "markdown",
   "id": "edb414bc-80c7-4681-aaa2-a0f14da74d0a",
   "metadata": {},
   "source": [
    "### Using `*` and `**` for function calling"
   ]
  },
  {
   "cell_type": "code",
   "execution_count": 43,
   "id": "a8b03ff1-e8ea-4f6d-b41b-81bc07942aff",
   "metadata": {},
   "outputs": [],
   "source": [
    "def new_function(a, b, c=True, d=False):\n",
    "    print(a, b)\n",
    "    print(c, d)"
   ]
  },
  {
   "cell_type": "code",
   "execution_count": 44,
   "id": "d4e71d6a-5f31-4828-848e-eca02f38e432",
   "metadata": {},
   "outputs": [
    {
     "name": "stdout",
     "output_type": "stream",
     "text": [
      "3 4\n",
      "hello cool\n"
     ]
    }
   ],
   "source": [
    "new_function(*[3, 4], **{'c': 'hello', 'd': 'cool'})"
   ]
  },
  {
   "cell_type": "code",
   "execution_count": null,
   "id": "8c164c23-78f2-4389-8da9-a54e670d306d",
   "metadata": {},
   "outputs": [],
   "source": []
  }
 ],
 "metadata": {
  "kernelspec": {
   "display_name": "Python 3 (ipykernel)",
   "language": "python",
   "name": "python3"
  },
  "language_info": {
   "codemirror_mode": {
    "name": "ipython",
    "version": 3
   },
   "file_extension": ".py",
   "mimetype": "text/x-python",
   "name": "python",
   "nbconvert_exporter": "python",
   "pygments_lexer": "ipython3",
   "version": "3.11.5"
  }
 },
 "nbformat": 4,
 "nbformat_minor": 5
}
