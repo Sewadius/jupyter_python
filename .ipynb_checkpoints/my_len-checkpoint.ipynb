{
 "cells": [
  {
   "cell_type": "markdown",
   "id": "7021490d-f8a8-44ac-9ceb-a25f5445bc47",
   "metadata": {},
   "source": [
    "## My function to calculate the length of the list"
   ]
  },
  {
   "cell_type": "code",
   "execution_count": 16,
   "id": "b4e2d917-a40c-4b0a-9455-553af93cb737",
   "metadata": {},
   "outputs": [
    {
     "name": "stdout",
     "output_type": "stream",
     "text": [
      "CPU times: total: 0 ns\n",
      "Wall time: 0 ns\n"
     ]
    }
   ],
   "source": [
    "%time\n",
    "def my_len(array: list) -> int:\n",
    "    if not array:\n",
    "        return 0\n",
    "    counter = 0\n",
    "    for el in array:\n",
    "        counter += 1\n",
    "    return counter"
   ]
  },
  {
   "cell_type": "code",
   "execution_count": 6,
   "id": "5abe79a6-a17f-4e5c-a364-4c86fdc5b0a2",
   "metadata": {},
   "outputs": [],
   "source": [
    "assert my_len([]) == 0"
   ]
  },
  {
   "cell_type": "code",
   "execution_count": 7,
   "id": "8f019190-3dfb-4e6b-9661-78dcdb29b8cb",
   "metadata": {},
   "outputs": [],
   "source": [
    "assert my_len([1, 2, 3]) == 3"
   ]
  },
  {
   "cell_type": "code",
   "execution_count": 17,
   "id": "e3626ca6-3ab4-43b7-8634-03668fcc915f",
   "metadata": {},
   "outputs": [
    {
     "name": "stdout",
     "output_type": "stream",
     "text": [
      "CPU times: total: 0 ns\n",
      "Wall time: 0 ns\n"
     ]
    }
   ],
   "source": [
    "%time\n",
    "assert my_len([[1, 2], [3, 4], [5, 6], [7, 8]]) == 4"
   ]
  },
  {
   "cell_type": "markdown",
   "id": "0dd551d7-1236-4be8-81aa-537891dc992b",
   "metadata": {},
   "source": [
    "### With user's input"
   ]
  },
  {
   "cell_type": "code",
   "execution_count": 12,
   "id": "2d7c29f1-2bf9-43aa-a6b2-bf7f227f318a",
   "metadata": {},
   "outputs": [
    {
     "name": "stdin",
     "output_type": "stream",
     "text": [
      " 10 -9 8 34 11 -2\n"
     ]
    }
   ],
   "source": [
    "my_list = list(map(int, input().split()))"
   ]
  },
  {
   "cell_type": "code",
   "execution_count": 15,
   "id": "a64187a3-4fc4-49cd-b247-5744dffe1b29",
   "metadata": {},
   "outputs": [
    {
     "name": "stdout",
     "output_type": "stream",
     "text": [
      "CPU times: total: 0 ns\n",
      "Wall time: 0 ns\n"
     ]
    }
   ],
   "source": [
    "%time\n",
    "assert len(my_list) == my_len(my_list)"
   ]
  }
 ],
 "metadata": {
  "kernelspec": {
   "display_name": "Python 3 (ipykernel)",
   "language": "python",
   "name": "python3"
  },
  "language_info": {
   "codemirror_mode": {
    "name": "ipython",
    "version": 3
   },
   "file_extension": ".py",
   "mimetype": "text/x-python",
   "name": "python",
   "nbconvert_exporter": "python",
   "pygments_lexer": "ipython3",
   "version": "3.11.5"
  }
 },
 "nbformat": 4,
 "nbformat_minor": 5
}
